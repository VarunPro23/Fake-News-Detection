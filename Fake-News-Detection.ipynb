{
 "cells": [
  {
   "cell_type": "code",
   "execution_count": 73,
   "id": "e4a97216",
   "metadata": {},
   "outputs": [],
   "source": [
    "##SETUP"
   ]
  },
  {
   "cell_type": "code",
   "execution_count": 74,
   "id": "1a6e3c14",
   "metadata": {},
   "outputs": [],
   "source": [
    "import sys\n",
    "assert sys.version_info >= (3, 5)"
   ]
  },
  {
   "cell_type": "code",
   "execution_count": 75,
   "id": "224acbe9",
   "metadata": {},
   "outputs": [],
   "source": [
    "# Scikit-Learn ≥0.20 is required\n",
    "import sklearn\n",
    "assert sklearn.__version__ >= \"0.20\""
   ]
  },
  {
   "cell_type": "code",
   "execution_count": 76,
   "id": "7150719d",
   "metadata": {},
   "outputs": [],
   "source": [
    "# Common imports\n",
    "import numpy as np\n",
    "import os\n",
    "import tarfile\n",
    "import urllib\n",
    "import pandas as pd\n",
    "import seaborn as sb\n",
    "import urllib\n",
    "import warnings\n",
    "import matplotlib.pyplot as plt\n",
    "from sklearn.model_selection import train_test_split\n",
    "from sklearn import metrics\n",
    "from sklearn.metrics import confusion_matrix\n",
    "from sklearn.metrics import plot_confusion_matrix\n",
    "from sklearn.metrics import roc_auc_score"
   ]
  },
  {
   "cell_type": "code",
   "execution_count": 77,
   "id": "4de08023",
   "metadata": {},
   "outputs": [],
   "source": [
    "#Extra imports\n",
    "from sklearn.feature_extraction.text import TfidfVectorizer\n",
    "from sklearn.linear_model import LogisticRegression\n",
    "from sklearn.tree import DecisionTreeClassifier,plot_tree\n",
    "from sklearn.naive_bayes import MultinomialNB"
   ]
  },
  {
   "cell_type": "code",
   "execution_count": 78,
   "id": "8754f088",
   "metadata": {},
   "outputs": [],
   "source": [
    "# Importing correlation coefficents\n",
    "import scipy\n",
    "from scipy.stats import pearsonr"
   ]
  },
  {
   "cell_type": "code",
   "execution_count": 79,
   "id": "2a881767",
   "metadata": {},
   "outputs": [],
   "source": [
    "##GET DATA\n",
    "\n",
    "address1 = 'C:/Users/varun/Desktop/Dissertation/train.csv'\n",
    "db1 = pd.read_csv(address1)\n",
    "\n",
    "address2 = 'C:/Users/varun/Desktop/Dissertation/data.csv'\n",
    "db2 = pd.read_csv(address2)"
   ]
  },
  {
   "cell_type": "markdown",
   "id": "af4bcf30",
   "metadata": {},
   "source": [
    "***Using Dataset 1***"
   ]
  },
  {
   "cell_type": "code",
   "execution_count": 80,
   "id": "9b254cf7",
   "metadata": {},
   "outputs": [
    {
     "name": "stdout",
     "output_type": "stream",
     "text": [
      "<class 'pandas.core.frame.DataFrame'>\n",
      "RangeIndex: 20800 entries, 0 to 20799\n",
      "Data columns (total 5 columns):\n",
      " #   Column  Non-Null Count  Dtype \n",
      "---  ------  --------------  ----- \n",
      " 0   id      20800 non-null  int64 \n",
      " 1   title   20242 non-null  object\n",
      " 2   author  18843 non-null  object\n",
      " 3   text    20761 non-null  object\n",
      " 4   label   20800 non-null  int64 \n",
      "dtypes: int64(2), object(3)\n",
      "memory usage: 812.6+ KB\n"
     ]
    }
   ],
   "source": [
    "db1.info()"
   ]
  },
  {
   "cell_type": "code",
   "execution_count": 81,
   "id": "a7b715e8",
   "metadata": {},
   "outputs": [
    {
     "name": "stdout",
     "output_type": "stream",
     "text": [
      "PearsonR Correlation Coefficent Matrix\n",
      "id       0.00114\n",
      "label    1.00000\n",
      "Name: label, dtype: float64\n"
     ]
    }
   ],
   "source": [
    "# Finding the correlation coefficient\n",
    "\n",
    "corr_pearson = db1.corr(method='pearson')\n",
    "print('PearsonR Correlation Coefficent Matrix')\n",
    "print(corr_pearson.label)"
   ]
  },
  {
   "cell_type": "code",
   "execution_count": 82,
   "id": "e5936de6",
   "metadata": {},
   "outputs": [
    {
     "data": {
      "text/plain": [
       "id           0\n",
       "title      558\n",
       "author    1957\n",
       "text        39\n",
       "label        0\n",
       "dtype: int64"
      ]
     },
     "execution_count": 82,
     "metadata": {},
     "output_type": "execute_result"
    }
   ],
   "source": [
    "# Checking for null values\n",
    "db1.isna().sum()"
   ]
  },
  {
   "cell_type": "code",
   "execution_count": 83,
   "id": "b9d8c369",
   "metadata": {},
   "outputs": [
    {
     "data": {
      "text/plain": [
       "id        0\n",
       "title     0\n",
       "author    0\n",
       "text      0\n",
       "label     0\n",
       "dtype: int64"
      ]
     },
     "execution_count": 83,
     "metadata": {},
     "output_type": "execute_result"
    }
   ],
   "source": [
    "# Dropping all null values\n",
    "db1 = db1.dropna()\n",
    "db1.isna().sum()"
   ]
  },
  {
   "cell_type": "code",
   "execution_count": 84,
   "id": "cde86bad",
   "metadata": {},
   "outputs": [
    {
     "data": {
      "text/html": [
       "<div>\n",
       "<style scoped>\n",
       "    .dataframe tbody tr th:only-of-type {\n",
       "        vertical-align: middle;\n",
       "    }\n",
       "\n",
       "    .dataframe tbody tr th {\n",
       "        vertical-align: top;\n",
       "    }\n",
       "\n",
       "    .dataframe thead th {\n",
       "        text-align: right;\n",
       "    }\n",
       "</style>\n",
       "<table border=\"1\" class=\"dataframe\">\n",
       "  <thead>\n",
       "    <tr style=\"text-align: right;\">\n",
       "      <th></th>\n",
       "      <th>id</th>\n",
       "      <th>title</th>\n",
       "      <th>author</th>\n",
       "      <th>label</th>\n",
       "      <th>content</th>\n",
       "    </tr>\n",
       "  </thead>\n",
       "  <tbody>\n",
       "    <tr>\n",
       "      <th>0</th>\n",
       "      <td>0</td>\n",
       "      <td>House Dem Aide: We Didn’t Even See Comey’s Let...</td>\n",
       "      <td>Darrell Lucus</td>\n",
       "      <td>1</td>\n",
       "      <td>Darrell Lucus: House Dem Aide: We Didn’t Even ...</td>\n",
       "    </tr>\n",
       "    <tr>\n",
       "      <th>1</th>\n",
       "      <td>1</td>\n",
       "      <td>FLYNN: Hillary Clinton, Big Woman on Campus - ...</td>\n",
       "      <td>Daniel J. Flynn</td>\n",
       "      <td>0</td>\n",
       "      <td>Daniel J. Flynn: FLYNN: Hillary Clinton, Big W...</td>\n",
       "    </tr>\n",
       "    <tr>\n",
       "      <th>2</th>\n",
       "      <td>2</td>\n",
       "      <td>Why the Truth Might Get You Fired</td>\n",
       "      <td>Consortiumnews.com</td>\n",
       "      <td>1</td>\n",
       "      <td>Consortiumnews.com: Why the Truth Might Get Yo...</td>\n",
       "    </tr>\n",
       "    <tr>\n",
       "      <th>3</th>\n",
       "      <td>3</td>\n",
       "      <td>15 Civilians Killed In Single US Airstrike Hav...</td>\n",
       "      <td>Jessica Purkiss</td>\n",
       "      <td>1</td>\n",
       "      <td>Jessica Purkiss: 15 Civilians Killed In Single...</td>\n",
       "    </tr>\n",
       "    <tr>\n",
       "      <th>4</th>\n",
       "      <td>4</td>\n",
       "      <td>Iranian woman jailed for fictional unpublished...</td>\n",
       "      <td>Howard Portnoy</td>\n",
       "      <td>1</td>\n",
       "      <td>Howard Portnoy: Iranian woman jailed for ficti...</td>\n",
       "    </tr>\n",
       "  </tbody>\n",
       "</table>\n",
       "</div>"
      ],
      "text/plain": [
       "   id                                              title              author  \\\n",
       "0   0  House Dem Aide: We Didn’t Even See Comey’s Let...       Darrell Lucus   \n",
       "1   1  FLYNN: Hillary Clinton, Big Woman on Campus - ...     Daniel J. Flynn   \n",
       "2   2                  Why the Truth Might Get You Fired  Consortiumnews.com   \n",
       "3   3  15 Civilians Killed In Single US Airstrike Hav...     Jessica Purkiss   \n",
       "4   4  Iranian woman jailed for fictional unpublished...      Howard Portnoy   \n",
       "\n",
       "   label                                            content  \n",
       "0      1  Darrell Lucus: House Dem Aide: We Didn’t Even ...  \n",
       "1      0  Daniel J. Flynn: FLYNN: Hillary Clinton, Big W...  \n",
       "2      1  Consortiumnews.com: Why the Truth Might Get Yo...  \n",
       "3      1  Jessica Purkiss: 15 Civilians Killed In Single...  \n",
       "4      1  Howard Portnoy: Iranian woman jailed for ficti...  "
      ]
     },
     "execution_count": 84,
     "metadata": {},
     "output_type": "execute_result"
    }
   ],
   "source": [
    "# Data Preprocessing\n",
    "# We drop the text column while merging the title and author column. This is done to simplify later processes.\n",
    "\n",
    "db1 = db1.drop(['text'], axis = 1)\n",
    "db1['content'] = db1['author'] + ': ' + db1['title']\n",
    "\n",
    "db1.head()"
   ]
  },
  {
   "cell_type": "code",
   "execution_count": 85,
   "id": "b84a8ae7",
   "metadata": {},
   "outputs": [
    {
     "name": "stdout",
     "output_type": "stream",
     "text": [
      "0        darrell lucus: house dem aide: we didn’t even ...\n",
      "1        daniel j. flynn: flynn: hillary clinton, big w...\n",
      "2        consortiumnews.com: why the truth might get yo...\n",
      "3        jessica purkiss: 15 civilians killed in single...\n",
      "4        howard portnoy: iranian woman jailed for ficti...\n",
      "                               ...                        \n",
      "20795    jerome hudson: rapper t.i.: trump a ’poster ch...\n",
      "20796    benjamin hoffman: n.f.l. playoffs: schedule, m...\n",
      "20797    michael j. de la merced and rachel abrams: mac...\n",
      "20798    alex ansary: nato, russia to hold parallel exe...\n",
      "20799             david swanson: what keeps the f-35 alive\n",
      "Name: content, Length: 18285, dtype: object\n"
     ]
    }
   ],
   "source": [
    "# Convert the text in content column to all lowercase. This helps to convert the textual data into numerical data.\n",
    "\n",
    "db1['content'] = db1['content'].str.lower()\n",
    "print(db1['content'])"
   ]
  },
  {
   "cell_type": "code",
   "execution_count": 86,
   "id": "0c49ca5f",
   "metadata": {},
   "outputs": [],
   "source": [
    "# Split the dataset into two smaller sets\n",
    "\n",
    "X = db1['content'].values\n",
    "Y = db1['label'].values"
   ]
  },
  {
   "cell_type": "code",
   "execution_count": 87,
   "id": "acba2a99",
   "metadata": {},
   "outputs": [
    {
     "name": "stdout",
     "output_type": "stream",
     "text": [
      "  (0, 21778)\t0.1801798697006809\n",
      "  (0, 21124)\t0.2705473683600946\n",
      "  (0, 20793)\t0.34607476433065565\n",
      "  (0, 17882)\t0.22413539849458575\n",
      "  (0, 12046)\t0.2997920929811835\n",
      "  (0, 11689)\t0.24960940690939667\n",
      "  (0, 10657)\t0.20398036311058051\n",
      "  (0, 10559)\t0.15272434858517348\n",
      "  (0, 9708)\t0.182993571354693\n",
      "  (0, 7062)\t0.22867144545869883\n",
      "  (0, 5739)\t0.24806039320792872\n",
      "  (0, 5421)\t0.24806039320792872\n",
      "  (0, 5142)\t0.2997920929811835\n",
      "  (0, 4202)\t0.2048709520487992\n",
      "  (0, 3597)\t0.3111359569102862\n",
      "  (0, 843)\t0.26405276418526397\n",
      "  (1, 22151)\t0.30117029946146845\n",
      "  (1, 14122)\t0.15832819043407434\n",
      "  (1, 9471)\t0.19024677320120018\n",
      "  (1, 7862)\t0.7023010892392251\n",
      "  (1, 5105)\t0.26099095591300686\n",
      "  (1, 4004)\t0.19287396699285944\n",
      "  (1, 3261)\t0.3767493523721914\n",
      "  (1, 2864)\t0.14895464095603386\n",
      "  (1, 2362)\t0.29217079660523154\n",
      "  :\t:\n",
      "  (18282, 10517)\t0.1242774149029686\n",
      "  (18282, 9743)\t0.20563746370855335\n",
      "  (18282, 5190)\t0.2084199087545075\n",
      "  (18282, 3159)\t0.14442469162399513\n",
      "  (18282, 2111)\t0.3185903620235717\n",
      "  (18282, 1372)\t0.2981782917561759\n",
      "  (18282, 1152)\t0.09723307081362725\n",
      "  (18282, 505)\t0.2870394500304822\n",
      "  (18283, 20323)\t0.10904810501911866\n",
      "  (18283, 17372)\t0.22039173422977829\n",
      "  (18283, 14572)\t0.4281502830236004\n",
      "  (18283, 13522)\t0.3082986194844236\n",
      "  (18283, 10055)\t0.12208618321224161\n",
      "  (18283, 9560)\t0.33664432134094585\n",
      "  (18283, 7155)\t0.4281502830236004\n",
      "  (18283, 1922)\t0.4412152416991176\n",
      "  (18283, 1233)\t0.2904284880686278\n",
      "  (18283, 942)\t0.26572277730874194\n",
      "  (18284, 21910)\t0.2697637012594138\n",
      "  (18284, 20126)\t0.09766457000102156\n",
      "  (18284, 19687)\t0.4439278292114923\n",
      "  (18284, 11026)\t0.4545275330722827\n",
      "  (18284, 5169)\t0.29651001041172087\n",
      "  (18284, 974)\t0.45169099909018323\n",
      "  (18284, 248)\t0.47125262486981184\n"
     ]
    }
   ],
   "source": [
    "# We convert the textual data into numerical data\n",
    "\n",
    "vect = TfidfVectorizer()\n",
    "vect.fit(X)\n",
    "\n",
    "X = vect.transform(X)\n",
    "print(X)"
   ]
  },
  {
   "cell_type": "code",
   "execution_count": 88,
   "id": "ccca57a6",
   "metadata": {},
   "outputs": [
    {
     "data": {
      "text/plain": [
       "LogisticRegression(solver='liblinear')"
      ]
     },
     "execution_count": 88,
     "metadata": {},
     "output_type": "execute_result"
    }
   ],
   "source": [
    "# Logistic Regression\n",
    "\n",
    "# Splitting the dataset into training and testing sets\n",
    "X_train, X_test, Y_train, Y_test = train_test_split(X, Y, test_size = 0.4, stratify = Y, random_state=100)\n",
    "\n",
    "LR = LogisticRegression(solver = 'liblinear')\n",
    "LR.fit(X_train, Y_train)"
   ]
  },
  {
   "cell_type": "code",
   "execution_count": 89,
   "id": "b86c19cc",
   "metadata": {},
   "outputs": [
    {
     "name": "stdout",
     "output_type": "stream",
     "text": [
      "Accuracy =  0.9742958709324583\n",
      "Precision =  0.9531914893617022\n",
      "Recall =  0.9892744479495268\n",
      "F1 Score =  0.9708978328173375\n"
     ]
    },
    {
     "data": {
      "image/png": "[encoded data removed]",
      "text/plain": [
       "<Figure size 432x288 with 2 Axes>"
      ]
     },
     "metadata": {
      "needs_background": "light"
     },
     "output_type": "display_data"
    },
    {
     "name": "stdout",
     "output_type": "stream",
     "text": [
      "Area under curve:  0.9977177295592122\n"
     ]
    },
    {
     "data": {
      "image/png": "[encoded data removed]",
      "text/plain": [
       "<Figure size 432x288 with 1 Axes>"
      ]
     },
     "metadata": {
      "needs_background": "light"
     },
     "output_type": "display_data"
    }
   ],
   "source": [
    "# Finding out the accuracy, F1-score, Recall and Precision\n",
    "pred_LR = LR.predict(X_test)\n",
    "\n",
    "#Accuracy\n",
    "LR_acc = metrics.accuracy_score(Y_test, pred_LR)\n",
    "print(\"Accuracy = \", LR_acc)\n",
    "\n",
    "#Precision\n",
    "LR_prec = metrics.precision_score(Y_test, pred_LR)\n",
    "print(\"Precision = \", LR_prec)\n",
    "\n",
    "#Recall\n",
    "LR_rec = metrics.recall_score(Y_test, pred_LR)\n",
    "print(\"Recall = \", LR_rec)\n",
    "\n",
    "#F1 Score\n",
    "LR_f1 = metrics.f1_score(Y_test, pred_LR)\n",
    "print(\"F1 Score = \", LR_f1)\n",
    "\n",
    "#Confusion Matrix\n",
    "LR_cm = confusion_matrix(Y_test, pred_LR)\n",
    "LR_matrix = plot_confusion_matrix(LR, X_test, Y_test, cmap = plt.cm.Reds)\n",
    "plt.show()\n",
    "\n",
    "#ROC Curve\n",
    "metrics.plot_roc_curve(LR, X_test, Y_test)\n",
    "LR_prob = LR.predict_proba(X_test)[::, 1]\n",
    "LR_auc = metrics.roc_auc_score(Y_test, LR_prob)\n",
    "print(\"Area under curve: \", LR_auc)\n",
    "\n",
    "warnings.filterwarnings(\"ignore\")"
   ]
  },
  {
   "cell_type": "code",
   "execution_count": 90,
   "id": "297207a9",
   "metadata": {},
   "outputs": [
    {
     "data": {
      "text/plain": [
       "DecisionTreeClassifier(max_depth=2, random_state=42)"
      ]
     },
     "execution_count": 90,
     "metadata": {},
     "output_type": "execute_result"
    }
   ],
   "source": [
    "# Decision Trees\n",
    "\n",
    "# Splitting the dataset into training and testing sets\n",
    "X_train, X_test, Y_train, Y_test = train_test_split(X, Y, test_size = 0.4, stratify = Y, random_state=100)\n",
    "\n",
    "DT = DecisionTreeClassifier(max_depth=2, random_state=42)\n",
    "DT.fit(X_train, Y_train)"
   ]
  },
  {
   "cell_type": "code",
   "execution_count": 91,
   "id": "a60d5cf9",
   "metadata": {},
   "outputs": [
    {
     "name": "stdout",
     "output_type": "stream",
     "text": [
      "Accuracy =  0.9062072737216298\n",
      "Precision =  0.8237747653806048\n",
      "Recall =  0.9968454258675079\n",
      "F1 Score =  0.9020839280616614\n"
     ]
    },
    {
     "data": {
      "image/png": "[encoded data removed]",
      "text/plain": [
       "<Figure size 432x288 with 1 Axes>"
      ]
     },
     "metadata": {
      "needs_background": "light"
     },
     "output_type": "display_data"
    },
    {
     "data": {
      "image/png": "[encoded data removed]",
      "text/plain": [
       "<Figure size 432x288 with 2 Axes>"
      ]
     },
     "metadata": {
      "needs_background": "light"
     },
     "output_type": "display_data"
    },
    {
     "name": "stdout",
     "output_type": "stream",
     "text": [
      "Area under curve:  0.917538488240381\n"
     ]
    },
    {
     "data": {
      "image/png": "[encoded data removed]",
      "text/plain": [
       "<Figure size 432x288 with 1 Axes>"
      ]
     },
     "metadata": {
      "needs_background": "light"
     },
     "output_type": "display_data"
    }
   ],
   "source": [
    "# Finding out the accuracy, F1-score, Recall and Precision\n",
    "pred_DT = DT.predict(X_test)\n",
    "\n",
    "#Accuracy\n",
    "DT_acc = metrics.accuracy_score(Y_test, pred_DT)\n",
    "print(\"Accuracy = \", DT_acc)\n",
    "\n",
    "#Precision\n",
    "DT_prec = metrics.precision_score(Y_test, pred_DT)\n",
    "print(\"Precision = \", DT_prec)\n",
    "\n",
    "#Recall\n",
    "DT_rec = metrics.recall_score(Y_test, pred_DT)\n",
    "print(\"Recall = \", DT_rec)\n",
    "\n",
    "#F1 Score\n",
    "DT_f1 = metrics.f1_score(Y_test, pred_DT)\n",
    "print(\"F1 Score = \", DT_f1)\n",
    "\n",
    "plot_tree(DT)\n",
    "\n",
    "#Confusion Matrix\n",
    "DT_cm = confusion_matrix(Y_test, pred_DT)\n",
    "DT_matrix = plot_confusion_matrix(DT, X_test, Y_test, cmap = plt.cm.Reds)\n",
    "plt.show()\n",
    "\n",
    "#ROC Curve\n",
    "metrics.plot_roc_curve(DT, X_test, Y_test)\n",
    "DT_prob = DT.predict_proba(X_test)[::, 1]\n",
    "DT_auc = metrics.roc_auc_score(Y_test, DT_prob)\n",
    "print(\"Area under curve: \", DT_auc)\n",
    "\n",
    "warnings.filterwarnings(\"ignore\")"
   ]
  },
  {
   "cell_type": "code",
   "execution_count": 92,
   "id": "9e38231f",
   "metadata": {},
   "outputs": [
    {
     "data": {
      "text/plain": [
       "MultinomialNB()"
      ]
     },
     "execution_count": 92,
     "metadata": {},
     "output_type": "execute_result"
    }
   ],
   "source": [
    "#Multinomial Naive Bayes\n",
    "\n",
    "# Splitting the dataset into training and testing sets\n",
    "X_train, X_test, Y_train, Y_test = train_test_split(X, Y, test_size = 0.4, stratify = Y, random_state=100)\n",
    "\n",
    "MNB = MultinomialNB()\n",
    "MNB.fit(X_train, Y_train)"
   ]
  },
  {
   "cell_type": "code",
   "execution_count": 93,
   "id": "ac0d5557",
   "metadata": {},
   "outputs": [
    {
     "name": "stdout",
     "output_type": "stream",
     "text": [
      "Accuracy =  0.9362865736942849\n",
      "Precision =  0.9981577008106116\n",
      "Recall =  0.8545741324921136\n",
      "F1 Score =  0.9208021753908905\n"
     ]
    },
    {
     "data": {
      "image/png": "[encoded data removed]",
      "text/plain": [
       "<Figure size 432x288 with 2 Axes>"
      ]
     },
     "metadata": {
      "needs_background": "light"
     },
     "output_type": "display_data"
    },
    {
     "name": "stdout",
     "output_type": "stream",
     "text": [
      "Area under curve:  0.9966911988599685\n"
     ]
    },
    {
     "data": {
      "image/png": "[encoded data removed]",
      "text/plain": [
       "<Figure size 432x288 with 1 Axes>"
      ]
     },
     "metadata": {
      "needs_background": "light"
     },
     "output_type": "display_data"
    }
   ],
   "source": [
    "# Finding out the accuracy, F1-score, Recall and Precision\n",
    "pred_MNB = MNB.predict(X_test)\n",
    "\n",
    "#Accuracy\n",
    "MNB_acc = metrics.accuracy_score(Y_test, pred_MNB)\n",
    "print(\"Accuracy = \", MNB_acc)\n",
    "\n",
    "#Precision\n",
    "MNB_prec = metrics.precision_score(Y_test, pred_MNB)\n",
    "print(\"Precision = \", MNB_prec)\n",
    "\n",
    "#Recall\n",
    "MNB_rec = metrics.recall_score(Y_test, pred_MNB)\n",
    "print(\"Recall = \", MNB_rec)\n",
    "\n",
    "#F1 Score\n",
    "MNB_f1 = metrics.f1_score(Y_test, pred_MNB)\n",
    "print(\"F1 Score = \", MNB_f1)\n",
    "\n",
    "#Confusion Matrix\n",
    "MNB_cm = confusion_matrix(Y_test, pred_MNB)\n",
    "MNB_matrix = plot_confusion_matrix(MNB, X_test, Y_test, cmap = plt.cm.Reds)\n",
    "plt.show()\n",
    "\n",
    "#ROC Curve\n",
    "metrics.plot_roc_curve(MNB, X_test, Y_test)\n",
    "MNB_prob = MNB.predict_proba(X_test)[::, 1]\n",
    "MNB_auc = metrics.roc_auc_score(Y_test, MNB_prob)\n",
    "print(\"Area under curve: \", MNB_auc)\n",
    "\n",
    "warnings.filterwarnings(\"ignore\")"
   ]
  },
  {
   "cell_type": "markdown",
   "id": "c62937f8",
   "metadata": {},
   "source": [
    "***Using Dataset 2***"
   ]
  },
  {
   "cell_type": "code",
   "execution_count": 94,
   "id": "9ff82a16",
   "metadata": {},
   "outputs": [
    {
     "name": "stdout",
     "output_type": "stream",
     "text": [
      "<class 'pandas.core.frame.DataFrame'>\n",
      "RangeIndex: 4012 entries, 0 to 4011\n",
      "Data columns (total 4 columns):\n",
      " #   Column    Non-Null Count  Dtype  \n",
      "---  ------    --------------  -----  \n",
      " 0   URLs      4008 non-null   object \n",
      " 1   Headline  4010 non-null   object \n",
      " 2   Body      3986 non-null   object \n",
      " 3   Label     4008 non-null   float64\n",
      "dtypes: float64(1), object(3)\n",
      "memory usage: 125.5+ KB\n"
     ]
    }
   ],
   "source": [
    "db2.info()"
   ]
  },
  {
   "cell_type": "code",
   "execution_count": 95,
   "id": "5e62e514",
   "metadata": {},
   "outputs": [
    {
     "name": "stdout",
     "output_type": "stream",
     "text": [
      "PearsonR Correlation Coefficent Matrix\n",
      "Label    1.0\n",
      "Name: Label, dtype: float64\n"
     ]
    }
   ],
   "source": [
    "# Finding the correlation coefficient\n",
    "\n",
    "corr_pearson = db2.corr(method='pearson')\n",
    "print('PearsonR Correlation Coefficent Matrix')\n",
    "print(corr_pearson.Label)"
   ]
  },
  {
   "cell_type": "code",
   "execution_count": 96,
   "id": "8f6b2761",
   "metadata": {},
   "outputs": [
    {
     "data": {
      "text/plain": [
       "URLs         4\n",
       "Headline     2\n",
       "Body        26\n",
       "Label        4\n",
       "dtype: int64"
      ]
     },
     "execution_count": 96,
     "metadata": {},
     "output_type": "execute_result"
    }
   ],
   "source": [
    "# Checking for null values in the dataset\n",
    "db2.isna().sum()"
   ]
  },
  {
   "cell_type": "code",
   "execution_count": 97,
   "id": "5986d0ee",
   "metadata": {},
   "outputs": [
    {
     "data": {
      "text/plain": [
       "URLs        0\n",
       "Headline    0\n",
       "Body        0\n",
       "Label       0\n",
       "dtype: int64"
      ]
     },
     "execution_count": 97,
     "metadata": {},
     "output_type": "execute_result"
    }
   ],
   "source": [
    "# Dropping all null values\n",
    "db2 = db2.dropna()\n",
    "db2.isna().sum()"
   ]
  },
  {
   "cell_type": "code",
   "execution_count": 98,
   "id": "59f29a8a",
   "metadata": {},
   "outputs": [
    {
     "data": {
      "text/html": [
       "<div>\n",
       "<style scoped>\n",
       "    .dataframe tbody tr th:only-of-type {\n",
       "        vertical-align: middle;\n",
       "    }\n",
       "\n",
       "    .dataframe tbody tr th {\n",
       "        vertical-align: top;\n",
       "    }\n",
       "\n",
       "    .dataframe thead th {\n",
       "        text-align: right;\n",
       "    }\n",
       "</style>\n",
       "<table border=\"1\" class=\"dataframe\">\n",
       "  <thead>\n",
       "    <tr style=\"text-align: right;\">\n",
       "      <th></th>\n",
       "      <th>Body</th>\n",
       "      <th>Label</th>\n",
       "    </tr>\n",
       "  </thead>\n",
       "  <tbody>\n",
       "    <tr>\n",
       "      <th>0</th>\n",
       "      <td>Image copyright Getty Images\\nOn Sunday mornin...</td>\n",
       "      <td>1.0</td>\n",
       "    </tr>\n",
       "    <tr>\n",
       "      <th>1</th>\n",
       "      <td>LONDON (Reuters) - “Last Flag Flying”, a comed...</td>\n",
       "      <td>1.0</td>\n",
       "    </tr>\n",
       "    <tr>\n",
       "      <th>2</th>\n",
       "      <td>The feud broke into public view last week when...</td>\n",
       "      <td>1.0</td>\n",
       "    </tr>\n",
       "    <tr>\n",
       "      <th>3</th>\n",
       "      <td>MEXICO CITY (Reuters) - Egypt’s Cheiron Holdin...</td>\n",
       "      <td>1.0</td>\n",
       "    </tr>\n",
       "    <tr>\n",
       "      <th>4</th>\n",
       "      <td>Country singer Jason Aldean, who was performin...</td>\n",
       "      <td>1.0</td>\n",
       "    </tr>\n",
       "  </tbody>\n",
       "</table>\n",
       "</div>"
      ],
      "text/plain": [
       "                                                Body  Label\n",
       "0  Image copyright Getty Images\\nOn Sunday mornin...    1.0\n",
       "1  LONDON (Reuters) - “Last Flag Flying”, a comed...    1.0\n",
       "2  The feud broke into public view last week when...    1.0\n",
       "3  MEXICO CITY (Reuters) - Egypt’s Cheiron Holdin...    1.0\n",
       "4  Country singer Jason Aldean, who was performin...    1.0"
      ]
     },
     "execution_count": 98,
     "metadata": {},
     "output_type": "execute_result"
    }
   ],
   "source": [
    "# Data Preprocessing\n",
    "# We drop the URLs and Body columns. This is done to simplify later processes.\n",
    "\n",
    "db2 = db2.drop(['URLs'], axis = 1)\n",
    "db2 = db2.drop(['Headline'], axis = 1)\n",
    "\n",
    "db2.head()"
   ]
  },
  {
   "cell_type": "code",
   "execution_count": 99,
   "id": "a0d03103",
   "metadata": {},
   "outputs": [
    {
     "name": "stdout",
     "output_type": "stream",
     "text": [
      "0       image copyright getty images\\non sunday mornin...\n",
      "1       london (reuters) - “last flag flying”, a comed...\n",
      "2       the feud broke into public view last week when...\n",
      "3       mexico city (reuters) - egypt’s cheiron holdin...\n",
      "4       country singer jason aldean, who was performin...\n",
      "                              ...                        \n",
      "4006    vietnam is in great danger, you must publish a...\n",
      "4007    trends to watch\\n% of readers think this story...\n",
      "4008    trump jr. is soon to give a 30-minute speech f...\n",
      "4010    shanghai (reuters) - china said it plans to ac...\n",
      "4011    vice president mike pence leaves nfl game beca...\n",
      "Name: Body, Length: 3986, dtype: object\n"
     ]
    }
   ],
   "source": [
    "# Convert the text in Headline column to all lowercase. This helps to convert the textual data into numerical data.\n",
    "\n",
    "db2['Body'] = db2['Body'].str.lower()\n",
    "print(db2['Body'])"
   ]
  },
  {
   "cell_type": "code",
   "execution_count": 100,
   "id": "9d315629",
   "metadata": {},
   "outputs": [],
   "source": [
    "# Split the dataset into two smaller sets\n",
    "\n",
    "x = db2['Body'].values\n",
    "y = db2['Label'].values"
   ]
  },
  {
   "cell_type": "code",
   "execution_count": 101,
   "id": "b28ce831",
   "metadata": {},
   "outputs": [
    {
     "name": "stdout",
     "output_type": "stream",
     "text": [
      "  (0, 45780)\t0.01772238617014786\n",
      "  (0, 45772)\t0.013186990541178115\n",
      "  (0, 45686)\t0.009950521253935527\n",
      "  (0, 45501)\t0.034474322388693274\n",
      "  (0, 45408)\t0.02453342225139396\n",
      "  (0, 45388)\t0.01977959026969816\n",
      "  (0, 45372)\t0.018155299290937243\n",
      "  (0, 45256)\t0.04428999488818559\n",
      "  (0, 45182)\t0.023775201000804908\n",
      "  (0, 45117)\t0.032238198341497507\n",
      "  (0, 45036)\t0.044407442263152845\n",
      "  (0, 45010)\t0.008076244008478102\n",
      "  (0, 44984)\t0.0774704698881216\n",
      "  (0, 44943)\t0.02561213500287012\n",
      "  (0, 44933)\t0.009181374720932129\n",
      "  (0, 44910)\t0.03696786270829401\n",
      "  (0, 44858)\t0.01827481957729534\n",
      "  (0, 44844)\t0.009196450616249924\n",
      "  (0, 44840)\t0.015032311712308899\n",
      "  (0, 44687)\t0.00840760482696482\n",
      "  (0, 44663)\t0.011965505732272308\n",
      "  (0, 44598)\t0.017393145039350254\n",
      "  (0, 44585)\t0.02167498473620604\n",
      "  (0, 44521)\t0.01631633959567429\n",
      "  (0, 44325)\t0.02508716347843856\n",
      "  :\t:\n",
      "  (3985, 3915)\t0.03395677471843458\n",
      "  (3985, 3811)\t0.015975900057141338\n",
      "  (3985, 3711)\t0.009063627296237444\n",
      "  (3985, 3464)\t0.04263799845240058\n",
      "  (3985, 3408)\t0.09651692748481207\n",
      "  (3985, 3400)\t0.2059557064889443\n",
      "  (3985, 3345)\t0.022902025834896395\n",
      "  (3985, 3218)\t0.11168288596627667\n",
      "  (3985, 3168)\t0.009141287825728869\n",
      "  (3985, 3094)\t0.04542347360343293\n",
      "  (3985, 3088)\t0.07168667316195042\n",
      "  (3985, 3018)\t0.024158860900400918\n",
      "  (3985, 3013)\t0.019055283909678637\n",
      "  (3985, 2455)\t0.021909147950961102\n",
      "  (3985, 2401)\t0.035098216528188016\n",
      "  (3985, 2158)\t0.01695724109264755\n",
      "  (3985, 2111)\t0.05340469511905244\n",
      "  (3985, 1277)\t0.031246942594212356\n",
      "  (3985, 1215)\t0.05234895415093951\n",
      "  (3985, 1150)\t0.11925055542610932\n",
      "  (3985, 598)\t0.024655379064650887\n",
      "  (3985, 355)\t0.020781272236275163\n",
      "  (3985, 121)\t0.01941238155109486\n",
      "  (3985, 73)\t0.01452192713366541\n",
      "  (3985, 57)\t0.032998567815463814\n"
     ]
    }
   ],
   "source": [
    "vect = TfidfVectorizer()\n",
    "vect.fit(x)\n",
    "\n",
    "x = vect.transform(x)\n",
    "print(x)"
   ]
  },
  {
   "cell_type": "code",
   "execution_count": 102,
   "id": "ff75616c",
   "metadata": {},
   "outputs": [
    {
     "name": "stdout",
     "output_type": "stream",
     "text": [
      "0       1\n",
      "1       1\n",
      "2       1\n",
      "3       1\n",
      "4       1\n",
      "       ..\n",
      "4006    0\n",
      "4007    0\n",
      "4008    0\n",
      "4010    1\n",
      "4011    0\n",
      "Name: Label, Length: 3986, dtype: int64\n"
     ]
    }
   ],
   "source": [
    "# We convert the Label column values to int from float to make later processes simpler.\n",
    "\n",
    "db2['Label'] = db2['Label'].apply(np.int64)\n",
    "print(db2['Label'])"
   ]
  },
  {
   "cell_type": "code",
   "execution_count": 103,
   "id": "c54a5d19",
   "metadata": {},
   "outputs": [
    {
     "data": {
      "text/plain": [
       "LogisticRegression(solver='liblinear')"
      ]
     },
     "execution_count": 103,
     "metadata": {},
     "output_type": "execute_result"
    }
   ],
   "source": [
    "# Logistic Regression\n",
    "\n",
    "# Splitting the dataset into training and testing sets\n",
    "x_train, x_test, y_train, y_test = train_test_split(x, y, test_size = 0.4, stratify = y, random_state=100)\n",
    "\n",
    "LogR = LogisticRegression(solver = 'liblinear')\n",
    "LogR.fit(x_train, y_train)"
   ]
  },
  {
   "cell_type": "code",
   "execution_count": 104,
   "id": "44f7fb00",
   "metadata": {},
   "outputs": [
    {
     "name": "stdout",
     "output_type": "stream",
     "text": [
      "Accuracy =  0.9699059561128527\n",
      "Precision =  0.9604743083003953\n",
      "Recall =  0.9759036144578314\n",
      "F1 Score =  0.9681274900398407\n"
     ]
    },
    {
     "data": {
      "image/png": "[encoded data removed]",
      "text/plain": [
       "<Figure size 432x288 with 2 Axes>"
      ]
     },
     "metadata": {
      "needs_background": "light"
     },
     "output_type": "display_data"
    },
    {
     "name": "stdout",
     "output_type": "stream",
     "text": [
      "Area under curve:  0.9965285670985831\n"
     ]
    },
    {
     "data": {
      "image/png": "[encoded data removed]",
      "text/plain": [
       "<Figure size 432x288 with 1 Axes>"
      ]
     },
     "metadata": {
      "needs_background": "light"
     },
     "output_type": "display_data"
    }
   ],
   "source": [
    "# Finding out the accuracy, F1-score, Recall and Precision\n",
    "pred_LogR = LogR.predict(x_test)\n",
    "\n",
    "#Accuracy\n",
    "LogR_acc = metrics.accuracy_score(y_test, pred_LogR)\n",
    "print(\"Accuracy = \", LogR_acc)\n",
    "\n",
    "#Precision\n",
    "LogR_prec = metrics.precision_score(y_test, pred_LogR)\n",
    "print(\"Precision = \", LogR_prec)\n",
    "\n",
    "#Recall\n",
    "LogR_rec = metrics.recall_score(y_test, pred_LogR)\n",
    "print(\"Recall = \", LogR_rec)\n",
    "\n",
    "#F1 Score\n",
    "LogR_f1 = metrics.f1_score(y_test, pred_LogR)\n",
    "print(\"F1 Score = \", LogR_f1)\n",
    "\n",
    "#Confusion Matrix\n",
    "LogR_cm = confusion_matrix(y_test, pred_LogR)\n",
    "LogR_matrix = plot_confusion_matrix(LogR, x_test, y_test, cmap = plt.cm.Reds)\n",
    "plt.show()\n",
    "\n",
    "#ROC Curve\n",
    "metrics.plot_roc_curve(LogR, x_test, y_test)\n",
    "LogR_prob = LogR.predict_proba(x_test)[::, 1]\n",
    "LogR_auc = metrics.roc_auc_score(y_test, LogR_prob)\n",
    "print(\"Area under curve: \", LogR_auc)\n",
    "\n",
    "warnings.filterwarnings(\"ignore\")"
   ]
  },
  {
   "cell_type": "code",
   "execution_count": 105,
   "id": "499975f1",
   "metadata": {},
   "outputs": [
    {
     "data": {
      "text/plain": [
       "DecisionTreeClassifier(max_depth=2, random_state=42)"
      ]
     },
     "execution_count": 105,
     "metadata": {},
     "output_type": "execute_result"
    }
   ],
   "source": [
    "# Decision Trees\n",
    "\n",
    "# Splitting the dataset into training and testing sets\n",
    "x_train, x_test, y_train, y_test = train_test_split(x, y, test_size = 0.4, stratify = y, random_state=100)\n",
    "\n",
    "DecTr = DecisionTreeClassifier(max_depth=2, random_state=42)\n",
    "DecTr.fit(x_train, y_train)"
   ]
  },
  {
   "cell_type": "code",
   "execution_count": 106,
   "id": "e95e997f",
   "metadata": {},
   "outputs": [
    {
     "name": "stdout",
     "output_type": "stream",
     "text": [
      "Accuracy =  0.8269592476489028\n",
      "Precision =  0.943502824858757\n",
      "Recall =  0.6706827309236948\n",
      "F1 Score =  0.7840375586854461\n"
     ]
    },
    {
     "data": {
      "image/png": "[encoded data removed]",
      "text/plain": [
       "<Figure size 432x288 with 1 Axes>"
      ]
     },
     "metadata": {
      "needs_background": "light"
     },
     "output_type": "display_data"
    },
    {
     "data": {
      "image/png": "[encoded data removed]",
      "text/plain": [
       "<Figure size 432x288 with 2 Axes>"
      ]
     },
     "metadata": {
      "needs_background": "light"
     },
     "output_type": "display_data"
    },
    {
     "name": "stdout",
     "output_type": "stream",
     "text": [
      "Area under curve:  0.8980986840443534\n"
     ]
    },
    {
     "data": {
      "image/png": "[encoded data removed]",
      "text/plain": [
       "<Figure size 432x288 with 1 Axes>"
      ]
     },
     "metadata": {
      "needs_background": "light"
     },
     "output_type": "display_data"
    }
   ],
   "source": [
    "# Finding out the accuracy, F1-score, Recall and Precision\n",
    "pred_DecTr = DecTr.predict(x_test)\n",
    "\n",
    "#Accuracy\n",
    "DecTr_acc = metrics.accuracy_score(y_test, pred_DecTr)\n",
    "print(\"Accuracy = \", DecTr_acc)\n",
    "\n",
    "#Precision\n",
    "DecTr_prec = metrics.precision_score(y_test, pred_DecTr)\n",
    "print(\"Precision = \", DecTr_prec)\n",
    "\n",
    "#Recall\n",
    "DecTr_rec = metrics.recall_score(y_test, pred_DecTr)\n",
    "print(\"Recall = \", DecTr_rec)\n",
    "\n",
    "#F1 Score\n",
    "DecTr_f1 = metrics.f1_score(y_test, pred_DecTr)\n",
    "print(\"F1 Score = \", DecTr_f1)\n",
    "\n",
    "plot_tree(DecTr)\n",
    "\n",
    "#Confusion Matrix\n",
    "DecTr_cm = confusion_matrix(y_test, pred_DecTr)\n",
    "DecTr_matrix = plot_confusion_matrix(DecTr, x_test, y_test, cmap = plt.cm.Reds)\n",
    "plt.show()\n",
    "\n",
    "#ROC Curve\n",
    "metrics.plot_roc_curve(DecTr, x_test, y_test)\n",
    "DecTr_prob = DecTr.predict_proba(x_test)[::, 1]\n",
    "DecTr_auc = metrics.roc_auc_score(y_test, DecTr_prob)\n",
    "print(\"Area under curve: \", DecTr_auc)\n",
    "\n",
    "warnings.filterwarnings(\"ignore\")"
   ]
  },
  {
   "cell_type": "code",
   "execution_count": 107,
   "id": "eeb10139",
   "metadata": {},
   "outputs": [
    {
     "data": {
      "text/plain": [
       "MultinomialNB()"
      ]
     },
     "execution_count": 107,
     "metadata": {},
     "output_type": "execute_result"
    }
   ],
   "source": [
    "#Multinomial Naive Bayes\n",
    "\n",
    "# Splitting the dataset into training and testing sets\n",
    "x_train, x_test, y_train, y_test = train_test_split(x, y, test_size = 0.4, stratify = y, random_state=100)\n",
    "\n",
    "MuNB = MultinomialNB()\n",
    "MuNB.fit(x_train, y_train)"
   ]
  },
  {
   "cell_type": "code",
   "execution_count": 108,
   "id": "a0aab560",
   "metadata": {},
   "outputs": [
    {
     "name": "stdout",
     "output_type": "stream",
     "text": [
      "Accuracy =  0.9366771159874608\n",
      "Precision =  0.9130434782608695\n",
      "Recall =  0.9558232931726908\n",
      "F1 Score =  0.9339437540876389\n"
     ]
    },
    {
     "data": {
      "image/png": "[encoded data removed]",
      "text/plain": [
       "<Figure size 432x288 with 2 Axes>"
      ]
     },
     "metadata": {
      "needs_background": "light"
     },
     "output_type": "display_data"
    },
    {
     "name": "stdout",
     "output_type": "stream",
     "text": [
      "Area under curve:  0.9853865146119066\n"
     ]
    },
    {
     "data": {
      "image/png": "[encoded data removed]",
      "text/plain": [
       "<Figure size 432x288 with 1 Axes>"
      ]
     },
     "metadata": {
      "needs_background": "light"
     },
     "output_type": "display_data"
    }
   ],
   "source": [
    "# Finding out the accuracy, F1-score, Recall and Precision\n",
    "pred_MuNB = MuNB.predict(x_test)\n",
    "\n",
    "#Accuracy\n",
    "MuNB_acc = metrics.accuracy_score(y_test, pred_MuNB)\n",
    "print(\"Accuracy = \", MuNB_acc)\n",
    "\n",
    "#Precision\n",
    "MuNB_prec = metrics.precision_score(y_test, pred_MuNB)\n",
    "print(\"Precision = \", MuNB_prec)\n",
    "\n",
    "#Recall\n",
    "MuNB_rec = metrics.recall_score(y_test, pred_MuNB)\n",
    "print(\"Recall = \", MuNB_rec)\n",
    "\n",
    "#F1 Score\n",
    "MuNB_f1 = metrics.f1_score(y_test, pred_MuNB)\n",
    "print(\"F1 Score = \", MuNB_f1)\n",
    "\n",
    "#Confusion Matrix\n",
    "MuNB_cm = confusion_matrix(y_test, pred_MuNB)\n",
    "MuNB_matrix = plot_confusion_matrix(MuNB, x_test, y_test, cmap = plt.cm.Reds)\n",
    "plt.show()\n",
    "\n",
    "#ROC Curve\n",
    "metrics.plot_roc_curve(MuNB, x_test, y_test)\n",
    "MuNB_prob = MuNB.predict_proba(x_test)[::, 1]\n",
    "MuNB_auc = metrics.roc_auc_score(y_test, MuNB_prob)\n",
    "print(\"Area under curve: \", MuNB_auc)\n",
    "\n",
    "warnings.filterwarnings(\"ignore\")"
   ]
  },
  {
   "cell_type": "markdown",
   "id": "59d54895",
   "metadata": {},
   "source": [
    "**Creating an Ensemble method using Stacking. It consists of Logistic Regression, Decision Trees and Multinomial Naive Bayes.**"
   ]
  },
  {
   "cell_type": "code",
   "execution_count": 109,
   "id": "c0aebe29",
   "metadata": {},
   "outputs": [],
   "source": [
    "# imports for stacking\n",
    "from sklearn.ensemble import StackingClassifier"
   ]
  },
  {
   "cell_type": "code",
   "execution_count": 110,
   "id": "b42ee21c",
   "metadata": {},
   "outputs": [],
   "source": [
    "# Stack models to create ensemble model\n",
    "\n",
    "def mod_stacking():\n",
    " # Defining the base models\n",
    " lvl0 = list()\n",
    " lvl0.append(('lr', LogisticRegression()))\n",
    " lvl0.append(('dt', DecisionTreeClassifier()))\n",
    " lvl0.append(('mnb', MultinomialNB()))\n",
    " # Defining the meta learner model\n",
    " lvl1 = LogisticRegression()\n",
    " # Defining the ensemble model\n",
    " model = StackingClassifier(estimators=lvl0, final_estimator=lvl1, cv=5)\n",
    " return model"
   ]
  },
  {
   "cell_type": "code",
   "execution_count": 111,
   "id": "9d56b913",
   "metadata": {},
   "outputs": [],
   "source": [
    "# Functions to evaluate the model's accuracy, precision, recall and f1-score.\n",
    "\n",
    "def evaluate_model_acc(model, X_train, X_test, y_train, y_test):\n",
    " model.fit(X_train, y_train)\n",
    " pred = model.predict(X_test)\n",
    " scores = metrics.accuracy_score(y_test, pred)\n",
    " return scores\n",
    "\n",
    "def evaluate_model_prec(model, X_train, X_test, y_train, y_test):\n",
    " model.fit(X_train, y_train)\n",
    " pred = model.predict(X_test)\n",
    " scores = metrics.precision_score(y_test, pred)\n",
    " return scores\n",
    "\n",
    "def evaluate_model_rec(model, X_train, X_test, y_train, y_test):\n",
    " model.fit(X_train, y_train)\n",
    " pred = model.predict(X_test)\n",
    " scores = metrics.recall_score(y_test, pred)\n",
    " return scores\n",
    "\n",
    "def evaluate_model_f1(model, X_train, X_test, y_train, y_test):\n",
    " model.fit(X_train, y_train)\n",
    " pred = model.predict(X_test)\n",
    " scores = metrics.f1_score(y_test, pred)\n",
    " return scores\n",
    "\n",
    "def roc_curve(model, X_train, X_test, y_train, y_test):\n",
    " model.fit(X_train, y_train)\n",
    " metrics.plot_roc_curve(model, X_test, y_test)\n",
    " model_prob = model.predict_proba(X_test)[::, 1]\n",
    " scores = metrics.roc_auc_score(y_test, model_prob)  \n",
    " return scores"
   ]
  },
  {
   "cell_type": "markdown",
   "id": "06c05995",
   "metadata": {},
   "source": [
    "***Using the ensemble method on dataset 1***"
   ]
  },
  {
   "cell_type": "code",
   "execution_count": 112,
   "id": "ef83c2ee",
   "metadata": {},
   "outputs": [
    {
     "name": "stdout",
     "output_type": "stream",
     "text": [
      "Ensemble method on dataset 1:\n",
      "Accuracy =  0.9945310363686082\n",
      "Precision =  0.9940006315124724\n",
      "Recall =  0.9924290220820189\n",
      "F1 =  0.9930577469233196\n",
      "Area under Curve =  0.9994213061642084\n"
     ]
    },
    {
     "data": {
      "image/png": "[encoded data removed]",
      "text/plain": [
       "<Figure size 432x288 with 1 Axes>"
      ]
     },
     "metadata": {
      "needs_background": "light"
     },
     "output_type": "display_data"
    }
   ],
   "source": [
    "# Evaluating the ensemble model using the dataset 1\n",
    "# Creating the ensemble model\n",
    "model = mod_stacking()\n",
    "\n",
    "# Splitting the dataset into testing and training sets\n",
    "### The X and Y parameters are already defined in the beginning, when defining for the individual models\n",
    "## X = db1['content'].values\n",
    "## Y = db1['label'].values\n",
    "\n",
    "X_train, X_test, Y_train, Y_test = train_test_split(X, Y, test_size = 0.4, stratify = Y, random_state=100)\n",
    "\n",
    "# Finding out the Accuracy, F1-score, Recall and Precision of the ensemble model\n",
    "acc_d1 = evaluate_model_acc(model, X_train, X_test, Y_train, Y_test)\n",
    "prec_d1 = evaluate_model_prec(model, X_train, X_test, Y_train, Y_test)\n",
    "rec_d1 = evaluate_model_rec(model, X_train, X_test, Y_train, Y_test)\n",
    "f1_d1 = evaluate_model_f1(model, X_train, X_test, Y_train, Y_test)\n",
    "roc_auc_d1 = roc_curve(model, X_train, X_test, Y_train, Y_test)\n",
    "\n",
    "print(\"Ensemble method on dataset 1:\")\n",
    "print(\"Accuracy = \", acc_d1)\n",
    "print(\"Precision = \", prec_d1)\n",
    "print(\"Recall = \", rec_d1)\n",
    "print(\"F1 = \", f1_d1)\n",
    "print(\"Area under Curve = \", roc_auc_d1)\n",
    "\n",
    "warnings.filterwarnings(\"ignore\")"
   ]
  },
  {
   "cell_type": "markdown",
   "id": "01e50033",
   "metadata": {},
   "source": [
    "***Using the ensemble method on dataset 2***"
   ]
  },
  {
   "cell_type": "code",
   "execution_count": 113,
   "id": "a857e680",
   "metadata": {},
   "outputs": [
    {
     "name": "stdout",
     "output_type": "stream",
     "text": [
      "Ensemble method on dataset 2:\n",
      "Accuracy =  0.974294670846395\n",
      "Precision =  0.9582790091264668\n",
      "Recall =  0.9852744310575636\n",
      "F1 =  0.972865651886168\n",
      "Area under Curve =  0.9994093547129825\n"
     ]
    },
    {
     "data": {
      "image/png": "[encoded data removed]",
      "text/plain": [
       "<Figure size 432x288 with 1 Axes>"
      ]
     },
     "metadata": {
      "needs_background": "light"
     },
     "output_type": "display_data"
    }
   ],
   "source": [
    "# Evaluating the ensemble model using the dataset 1\n",
    "# Creating the ensemble model\n",
    "model = mod_stacking()\n",
    "\n",
    "# Splitting the dataset into testing and training sets\n",
    "### The x and y parameters are already defined in the beginning, when defining for the individual models\n",
    "## x = db2['Body'].values\n",
    "## y = db2['Label'].values\n",
    "\n",
    "x_train, x_test, y_train, y_test = train_test_split(x, y, test_size = 0.4, stratify = y, random_state=100)\n",
    "\n",
    "# Finding out the Accuracy, F1-score, Recall and Precision of the ensemble model\n",
    "acc_d2 = evaluate_model_acc(model, x_train, x_test, y_train, y_test)\n",
    "prec_d2 = evaluate_model_prec(model, x_train, x_test, y_train, y_test)\n",
    "rec_d2 = evaluate_model_rec(model, x_train, x_test, y_train, y_test)\n",
    "f1_d2 = evaluate_model_f1(model, x_train, x_test, y_train, y_test)\n",
    "roc_auc_d2 = roc_curve(model, X_train, X_test, Y_train, Y_test)\n",
    "\n",
    "print(\"Ensemble method on dataset 2:\")\n",
    "print(\"Accuracy = \", acc_d2)\n",
    "print(\"Precision = \", prec_d2)\n",
    "print(\"Recall = \", rec_d2)\n",
    "print(\"F1 = \", f1_d2)\n",
    "print(\"Area under Curve = \", roc_auc_d2)\n",
    "\n",
    "warnings.filterwarnings(\"ignore\")"
   ]
  },
  {
   "cell_type": "code",
   "execution_count": null,
   "id": "d3e19070",
   "metadata": {},
   "outputs": [],
   "source": []
  }
 ],
 "metadata": {
  "kernelspec": {
   "display_name": "Python 3 (ipykernel)",
   "language": "python",
   "name": "python3"
  },
  "language_info": {
   "codemirror_mode": {
    "name": "ipython",
    "version": 3
   },
   "file_extension": ".py",
   "mimetype": "text/x-python",
   "name": "python",
   "nbconvert_exporter": "python",
   "pygments_lexer": "ipython3",
   "version": "3.9.12"
  }
 },
 "nbformat": 4,
 "nbformat_minor": 5
}
